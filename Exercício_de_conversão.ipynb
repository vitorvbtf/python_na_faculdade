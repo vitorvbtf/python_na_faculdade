{
  "nbformat": 4,
  "nbformat_minor": 0,
  "metadata": {
    "colab": {
      "name": "Exercício_de_conversão",
      "provenance": [],
      "collapsed_sections": [],
      "authorship_tag": "ABX9TyM2TsemwTMVn6/Pj1kAEU+u",
      "include_colab_link": true
    },
    "kernelspec": {
      "name": "python3",
      "display_name": "Python 3"
    },
    "language_info": {
      "name": "python"
    }
  },
  "cells": [
    {
      "cell_type": "markdown",
      "metadata": {
        "id": "view-in-github",
        "colab_type": "text"
      },
      "source": [
        "<a href=\"https://colab.research.google.com/github/vitorvbtf/python_na_faculdade/blob/main/Exerc%C3%ADcio_de_convers%C3%A3o.ipynb\" target=\"_parent\"><img src=\"https://colab.research.google.com/assets/colab-badge.svg\" alt=\"Open In Colab\"/></a>"
      ]
    },
    {
      "cell_type": "code",
      "execution_count": null,
      "metadata": {
        "colab": {
          "base_uri": "https://localhost:8080/"
        },
        "id": "xQUnWXwiznVN",
        "outputId": "1648713f-ffbd-4420-a6f2-3a742cff99f0"
      },
      "outputs": [
        {
          "output_type": "stream",
          "name": "stdout",
          "text": [
            "digite aqui a cotação que o dólar se encontra nesse momento: 4.72\n",
            "digite aqui o valor em real que você quer converter para dólar: 1000\n",
            "Você possui 211.0 dólares\n",
            "digite aqui a cotação que o dólar se encontra nesse momento: 4.72\n",
            "digite aqui o valor em dólar que você quer converter para real: 211.0\n",
            "você possui 995.92 reais\n"
          ]
        }
      ],
      "source": [
        "cotacao_do_dolar = float(input('digite aqui a cotação que o dólar se encontra nesse momento: '))\n",
        "valor_em_real = float(input('digite aqui o valor em real que você quer converter para dólar: '))\n",
        "\n",
        "calculo_para_dolar = valor_em_real // cotacao_do_dolar\n",
        "\n",
        "print('Você possui', calculo_para_dolar ,'dólares')\n",
        "\n",
        "cotacao_do_dolar = float(input('digite aqui a cotação que o dólar se encontra nesse momento: '))\n",
        "valor_em_dolar = float(input('digite aqui o valor em dólar que você quer converter para real: '))\n",
        "\n",
        "calculo_para_real = cotacao_do_dolar * valor_em_dolar\n",
        "\n",
        "print('você possui', calculo_para_real, 'reais')"
      ]
    }
  ]
}