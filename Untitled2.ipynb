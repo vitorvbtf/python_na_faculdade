{
  "nbformat": 4,
  "nbformat_minor": 0,
  "metadata": {
    "colab": {
      "name": "Untitled2.ipynb",
      "provenance": [],
      "collapsed_sections": [],
      "authorship_tag": "ABX9TyPtAu6wg/7wZgJEs78PQTEN",
      "include_colab_link": true
    },
    "kernelspec": {
      "name": "python3",
      "display_name": "Python 3"
    },
    "language_info": {
      "name": "python"
    }
  },
  "cells": [
    {
      "cell_type": "markdown",
      "metadata": {
        "id": "view-in-github",
        "colab_type": "text"
      },
      "source": [
        "<a href=\"https://colab.research.google.com/github/vitorvbtf/python_na_faculdade/blob/main/Untitled2.ipynb\" target=\"_parent\"><img src=\"https://colab.research.google.com/assets/colab-badge.svg\" alt=\"Open In Colab\"/></a>"
      ]
    },
    {
      "cell_type": "code",
      "source": [
        "numero = float(input('digite um numero '))\n",
        "\n",
        "if(numero < 0):\n",
        "   print('Este numero é negativo')\n",
        "elif(numero == 0):\n",
        "   print('Este numero é igual a zero')\n",
        "else:\n",
        "   print('Este numero é positivo')   "
      ],
      "metadata": {
        "id": "ZGBZ3zHtJO3P"
      },
      "execution_count": null,
      "outputs": []
    },
    {
      "cell_type": "code",
      "execution_count": null,
      "metadata": {
        "id": "ZW3_ZAfGEni6"
      },
      "outputs": [],
      "source": [
        "numero = int(input('digite o numero ' ))\n",
        "\n",
        "if(numero % 2) == 0:\n",
        "   print('este é um número par')  \n",
        "else:\n",
        "   print('este é um numero impar')"
      ]
    },
    {
      "cell_type": "code",
      "source": [
        "numero = int(input('digite o numero'))\n",
        "checando_divisivel_por_3 = numero % 3\n",
        "\n",
        "if(checando_divisivel_por_3 == 0):\n",
        "   print('Este numero é divisivel por 3')\n",
        "else:\n",
        "   print('Este numero não é divisivel por 3') \n",
        "\n",
        "checando_divisivel_por_5 = numero % 5\n",
        "\n",
        "if(checando_divisivel_por_5 == 0):\n",
        "   print('Este numero é divisivel por 5')\n",
        "else:\n",
        "   print('Este numero não é divisivel por 5') "
      ],
      "metadata": {
        "id": "Ux9DIHBBLK8O"
      },
      "execution_count": null,
      "outputs": []
    },
    {
      "cell_type": "code",
      "source": [
        "idade1 = int(input('digite a idade do participante 1 '))\n",
        "idade2 = int(input('digite a idade do participante 2 '))\n",
        "idade3 = int(input('digite a idade do participante 3 '))\n",
        "\n",
        "maior = idade1\n",
        "if (idade2 > maior):\n",
        "   maior = idade2\n",
        "if (idade3 > maior):\n",
        "   maior: idade3\n",
        "print(maior)\n",
        "\n",
        "menor = idade1\n",
        "if (idade2 < menor):\n",
        "   menor = idade2\n",
        "if (idade3 < menor):\n",
        "   menor = idade3\n",
        "print(menor)\n"
      ],
      "metadata": {
        "id": "3C_DyN0LPMpV"
      },
      "execution_count": null,
      "outputs": []
    }
  ]
}